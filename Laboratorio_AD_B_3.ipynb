{
  "nbformat": 4,
  "nbformat_minor": 0,
  "metadata": {
    "colab": {
      "provenance": []
    },
    "kernelspec": {
      "name": "python3",
      "display_name": "Python 3"
    },
    "language_info": {
      "name": "python"
    }
  },
  "cells": [
    {
      "cell_type": "markdown",
      "source": [
        "Exploración inicial del dataset:\n",
        "\n",
        "•\tCargar los datos con Pandas y usar funciones como .isnull(), .duplicated(), y .value_counts() sobre la columna “City”."
      ],
      "metadata": {
        "id": "GxvH8TLPJdmE"
      }
    },
    {
      "cell_type": "code",
      "execution_count": 49,
      "metadata": {
        "colab": {
          "base_uri": "https://localhost:8080/"
        },
        "id": "49m05xiNITcV",
        "outputId": "c44272b6-7171-45d5-8fa2-b21fda5ef57d"
      },
      "outputs": [
        {
          "output_type": "stream",
          "name": "stdout",
          "text": [
            "\n",
            "Valores nulos en columna 'City':\n",
            "15\n",
            "\n",
            "Valores duplicados en columna 'City':\n",
            "55\n",
            "\n",
            "Cantidad de registros por ciudad en columna 'City':\n",
            "City\n",
            "Chicago        13\n",
            "Houston        13\n",
            "New York       12\n",
            "Los Angeles     7\n",
            "Name: count, dtype: int64\n"
          ]
        }
      ],
      "source": [
        "import pandas as pd\n",
        "import numpy as np\n",
        "\n",
        "df = pd.read_csv(\"CSV Laboratorio 3 AD-B.csv\")\n",
        "\n",
        "print(\"\\nValores nulos en columna 'City':\")\n",
        "print(df['City'].isnull().sum())\n",
        "print(\"\\nValores duplicados en columna 'City':\")\n",
        "print(df['City'].duplicated().sum())\n",
        "print(\"\\nCantidad de registros por ciudad en columna 'City':\")\n",
        "print(df['City'].value_counts())"
      ]
    },
    {
      "cell_type": "markdown",
      "source": [
        "•\tEliminar o reemplazar valores nulos (fillna, dropna)."
      ],
      "metadata": {
        "id": "a4TTXpAbKKPz"
      }
    },
    {
      "cell_type": "code",
      "source": [
        "df.dropna(inplace=True)"
      ],
      "metadata": {
        "id": "MKdeKJosKKs6"
      },
      "execution_count": 50,
      "outputs": []
    },
    {
      "cell_type": "markdown",
      "source": [
        "•\tEliminar duplicados con .drop_duplicates()."
      ],
      "metadata": {
        "id": "B-OIUM_-MCQ3"
      }
    },
    {
      "cell_type": "code",
      "source": [
        "df.drop_duplicates(inplace=True)"
      ],
      "metadata": {
        "id": "Z7Z0GyAbMDo2"
      },
      "execution_count": 51,
      "outputs": []
    },
    {
      "cell_type": "markdown",
      "source": [
        "•\tNormalización de formatos en columnas (e.g., convertir texto a minúsculas, estandarizar fechas al formato AAAA/MM/DD con pd.to_datetime)."
      ],
      "metadata": {
        "id": "1gi99sVLMV8-"
      }
    },
    {
      "cell_type": "code",
      "source": [
        "Fecha_formateada = pd.to_datetime(df['Date'], format='mixed')\n",
        "df['Date'] = Fecha_formateada"
      ],
      "metadata": {
        "id": "3JBkHqekMX7G"
      },
      "execution_count": 52,
      "outputs": []
    },
    {
      "cell_type": "markdown",
      "source": [
        "•\tEstandarizar formato de “Category”."
      ],
      "metadata": {
        "id": "LoaPRMXMNjuU"
      }
    },
    {
      "cell_type": "code",
      "source": [
        "Categoria_formateada = df['Category'].str.upper().str[-1]\n",
        "df['Category'] = Categoria_formateada"
      ],
      "metadata": {
        "id": "XAb1M3mBNkBz"
      },
      "execution_count": 53,
      "outputs": []
    },
    {
      "cell_type": "markdown",
      "source": [
        "-\tValidación del dataset limpio: Revisar nuevamente el dataset para asegurar que los problemas han sido corregidos."
      ],
      "metadata": {
        "id": "k6FPb6lYQOX3"
      }
    },
    {
      "cell_type": "code",
      "source": [
        "print(\"\\nValores nulos en columnas:\")\n",
        "print(df.isnull().sum())\n",
        "print(\"\\nValores duplicados en columnas':\")\n",
        "print(df.duplicated().sum())"
      ],
      "metadata": {
        "colab": {
          "base_uri": "https://localhost:8080/"
        },
        "id": "aSO6GIO5QQNe",
        "outputId": "38f01111-d180-45c7-e78e-c01aeb36cc41"
      },
      "execution_count": 54,
      "outputs": [
        {
          "output_type": "stream",
          "name": "stdout",
          "text": [
            "\n",
            "Valores nulos en columnas:\n",
            "ID          0\n",
            "Name        0\n",
            "Category    0\n",
            "City        0\n",
            "Value       0\n",
            "Date        0\n",
            "dtype: int64\n",
            "\n",
            "Valores duplicados en columnas':\n",
            "0\n"
          ]
        }
      ]
    },
    {
      "cell_type": "markdown",
      "source": [
        "-\tExportar el dataset limpio en extensión CSV ya que se usará para el siguiente laboratorio."
      ],
      "metadata": {
        "id": "qqSLVvhmROqN"
      }
    },
    {
      "cell_type": "code",
      "source": [
        "df.to_csv(\"CSV Laboratorio 3 AD-B_limpio.csv\")"
      ],
      "metadata": {
        "id": "_lu0_lT9RPZE"
      },
      "execution_count": 57,
      "outputs": []
    }
  ]
}